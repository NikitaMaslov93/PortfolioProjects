{
 "cells": [
  {
   "cell_type": "markdown",
   "id": "e635b190-6c6c-43a3-a04e-64b01977e6e9",
   "metadata": {},
   "source": [
    "### Вводные\n",
    "В БД имеется две таблицы:\n",
    " * feed_actions\n",
    " * message_actions<br>\n",
    "<b>feed_actions</b> несет в себе информацию о том, как пользователь взаимодействал с постом (просмотрел и/или поставил лайк).\n",
    "<b>message_actions</b> - информация по статистике встроенного мессенжера социальной сети, которая содержит информацию о количестве отправленных и полученных сообщениях.\n",
    "#### Задача\n",
    "Автоматизировать обработку данных следующим образом:\n",
    "* в feed_actions для каждого пользователя считать число просмотров и лайков контента.\n",
    "* В message_actions для каждого пользователя считать, сколько он получает и отсылает сообщений, скольким людям он пишет, сколько людей пишут ему.\n",
    "* Объединить две таблицы в одну и считать все метрики в разрезе по полу, возрасту и ОС\n",
    "* Финальные данные со всеми метриками записать в отдельную таблицу в ClickHouse.\n",
    "* Каждый день таблица должна дополняться новыми данными. "
   ]
  },
  {
   "cell_type": "code",
   "execution_count": 1,
   "id": "8bee06e6-feb1-4897-afa2-3d02251d6901",
   "metadata": {
    "jupyter": {
     "source_hidden": true
    },
    "tags": []
   },
   "outputs": [],
   "source": [
    "import configparser\n",
    "\n",
    "from datetime import datetime, timedelta\n",
    "import pandas as pd\n",
    "import pandahouse as ph\n"
   ]
  },
  {
   "cell_type": "code",
   "execution_count": 2,
   "id": "c3147c4c-2080-40aa-aaee-c29a4791382a",
   "metadata": {
    "jupyter": {
     "source_hidden": true
    },
    "tags": []
   },
   "outputs": [],
   "source": [
    "# Подсоединяемся к нужной базе данных.\n",
    "# Логины, пароли и прочее в отдельном файле\n",
    "config = configparser.ConfigParser()\n",
    "config.read('config.ini')\n",
    "\n",
    "connection = {\n",
    "    'host': config.get('clickhouse_connection', 'host'),\n",
    "    'user': config.get('clickhouse_connection', 'user'),\n",
    "    'password': config.get('clickhouse_connection', 'password'),\n",
    "    'database': config.get('clickhouse_connection', 'database')\n",
    "}"
   ]
  },
  {
   "cell_type": "markdown",
   "id": "f38dc46d-6609-41b8-809d-489049fc00f8",
   "metadata": {},
   "source": [
    "### Состав таблицы feed_actions"
   ]
  },
  {
   "cell_type": "code",
   "execution_count": 3,
   "id": "0a72b8db-837d-44be-b62f-25973b8a2b87",
   "metadata": {
    "jupyter": {
     "source_hidden": true
    },
    "tags": []
   },
   "outputs": [
    {
     "data": {
      "text/html": [
       "<div>\n",
       "<style scoped>\n",
       "    .dataframe tbody tr th:only-of-type {\n",
       "        vertical-align: middle;\n",
       "    }\n",
       "\n",
       "    .dataframe tbody tr th {\n",
       "        vertical-align: top;\n",
       "    }\n",
       "\n",
       "    .dataframe thead th {\n",
       "        text-align: right;\n",
       "    }\n",
       "</style>\n",
       "<table border=\"1\" class=\"dataframe\">\n",
       "  <thead>\n",
       "    <tr style=\"text-align: right;\">\n",
       "      <th></th>\n",
       "      <th>user_id</th>\n",
       "      <th>post_id</th>\n",
       "      <th>action</th>\n",
       "      <th>time</th>\n",
       "      <th>gender</th>\n",
       "      <th>age</th>\n",
       "      <th>country</th>\n",
       "      <th>city</th>\n",
       "      <th>os</th>\n",
       "      <th>source</th>\n",
       "      <th>exp_group</th>\n",
       "    </tr>\n",
       "  </thead>\n",
       "  <tbody>\n",
       "    <tr>\n",
       "      <th>0</th>\n",
       "      <td>106791</td>\n",
       "      <td>76</td>\n",
       "      <td>view</td>\n",
       "      <td>2024-02-03 00:26:19</td>\n",
       "      <td>0</td>\n",
       "      <td>45</td>\n",
       "      <td>Russia</td>\n",
       "      <td>Chelyabinsk</td>\n",
       "      <td>iOS</td>\n",
       "      <td>ads</td>\n",
       "      <td>3</td>\n",
       "    </tr>\n",
       "    <tr>\n",
       "      <th>1</th>\n",
       "      <td>659</td>\n",
       "      <td>76</td>\n",
       "      <td>view</td>\n",
       "      <td>2024-02-03 00:26:31</td>\n",
       "      <td>0</td>\n",
       "      <td>30</td>\n",
       "      <td>Russia</td>\n",
       "      <td>Partizansk</td>\n",
       "      <td>Android</td>\n",
       "      <td>ads</td>\n",
       "      <td>0</td>\n",
       "    </tr>\n",
       "    <tr>\n",
       "      <th>2</th>\n",
       "      <td>106791</td>\n",
       "      <td>76</td>\n",
       "      <td>like</td>\n",
       "      <td>2024-02-03 00:27:59</td>\n",
       "      <td>0</td>\n",
       "      <td>45</td>\n",
       "      <td>Russia</td>\n",
       "      <td>Chelyabinsk</td>\n",
       "      <td>iOS</td>\n",
       "      <td>ads</td>\n",
       "      <td>3</td>\n",
       "    </tr>\n",
       "    <tr>\n",
       "      <th>3</th>\n",
       "      <td>695</td>\n",
       "      <td>76</td>\n",
       "      <td>view</td>\n",
       "      <td>2024-02-03 00:29:39</td>\n",
       "      <td>1</td>\n",
       "      <td>27</td>\n",
       "      <td>Russia</td>\n",
       "      <td>Engels</td>\n",
       "      <td>Android</td>\n",
       "      <td>ads</td>\n",
       "      <td>0</td>\n",
       "    </tr>\n",
       "    <tr>\n",
       "      <th>4</th>\n",
       "      <td>695</td>\n",
       "      <td>76</td>\n",
       "      <td>like</td>\n",
       "      <td>2024-02-03 00:29:51</td>\n",
       "      <td>1</td>\n",
       "      <td>27</td>\n",
       "      <td>Russia</td>\n",
       "      <td>Engels</td>\n",
       "      <td>Android</td>\n",
       "      <td>ads</td>\n",
       "      <td>0</td>\n",
       "    </tr>\n",
       "  </tbody>\n",
       "</table>\n",
       "</div>"
      ],
      "text/plain": [
       "   user_id  post_id action                time  gender  age country  \\\n",
       "0   106791       76   view 2024-02-03 00:26:19       0   45  Russia   \n",
       "1      659       76   view 2024-02-03 00:26:31       0   30  Russia   \n",
       "2   106791       76   like 2024-02-03 00:27:59       0   45  Russia   \n",
       "3      695       76   view 2024-02-03 00:29:39       1   27  Russia   \n",
       "4      695       76   like 2024-02-03 00:29:51       1   27  Russia   \n",
       "\n",
       "          city       os source  exp_group  \n",
       "0  Chelyabinsk      iOS    ads          3  \n",
       "1   Partizansk  Android    ads          0  \n",
       "2  Chelyabinsk      iOS    ads          3  \n",
       "3       Engels  Android    ads          0  \n",
       "4       Engels  Android    ads          0  "
      ]
     },
     "execution_count": 3,
     "metadata": {},
     "output_type": "execute_result"
    }
   ],
   "source": [
    "feed_actions = '''\n",
    "            select *\n",
    "            from simulator_20240320.feed_actions\n",
    "            order by time\n",
    "            limit 100\n",
    "            \n",
    "        '''\n",
    "ph.read_clickhouse(feed_actions, connection=connection).head()"
   ]
  },
  {
   "cell_type": "markdown",
   "id": "5a9da117-349d-49ed-af02-b8fc5d107c2b",
   "metadata": {},
   "source": [
    "### Состав таблицы message_actions"
   ]
  },
  {
   "cell_type": "code",
   "execution_count": 5,
   "id": "05d9fbe4-57e0-45fc-afa1-c2f2eed622a3",
   "metadata": {
    "jupyter": {
     "source_hidden": true
    },
    "tags": []
   },
   "outputs": [
    {
     "data": {
      "text/html": [
       "<div>\n",
       "<style scoped>\n",
       "    .dataframe tbody tr th:only-of-type {\n",
       "        vertical-align: middle;\n",
       "    }\n",
       "\n",
       "    .dataframe tbody tr th {\n",
       "        vertical-align: top;\n",
       "    }\n",
       "\n",
       "    .dataframe thead th {\n",
       "        text-align: right;\n",
       "    }\n",
       "</style>\n",
       "<table border=\"1\" class=\"dataframe\">\n",
       "  <thead>\n",
       "    <tr style=\"text-align: right;\">\n",
       "      <th></th>\n",
       "      <th>user_id</th>\n",
       "      <th>receiver_id</th>\n",
       "      <th>time</th>\n",
       "      <th>source</th>\n",
       "      <th>exp_group</th>\n",
       "      <th>gender</th>\n",
       "      <th>age</th>\n",
       "      <th>country</th>\n",
       "      <th>city</th>\n",
       "      <th>os</th>\n",
       "    </tr>\n",
       "  </thead>\n",
       "  <tbody>\n",
       "    <tr>\n",
       "      <th>0</th>\n",
       "      <td>16117</td>\n",
       "      <td>21886</td>\n",
       "      <td>2024-05-13 00:00:01</td>\n",
       "      <td>ads</td>\n",
       "      <td>0</td>\n",
       "      <td>1</td>\n",
       "      <td>21</td>\n",
       "      <td>Russia</td>\n",
       "      <td>Tuymazy</td>\n",
       "      <td>Android</td>\n",
       "    </tr>\n",
       "    <tr>\n",
       "      <th>1</th>\n",
       "      <td>16117</td>\n",
       "      <td>24425</td>\n",
       "      <td>2024-05-13 00:00:01</td>\n",
       "      <td>ads</td>\n",
       "      <td>0</td>\n",
       "      <td>1</td>\n",
       "      <td>21</td>\n",
       "      <td>Russia</td>\n",
       "      <td>Tuymazy</td>\n",
       "      <td>Android</td>\n",
       "    </tr>\n",
       "    <tr>\n",
       "      <th>2</th>\n",
       "      <td>16117</td>\n",
       "      <td>110592</td>\n",
       "      <td>2024-05-13 00:00:01</td>\n",
       "      <td>ads</td>\n",
       "      <td>0</td>\n",
       "      <td>1</td>\n",
       "      <td>21</td>\n",
       "      <td>Russia</td>\n",
       "      <td>Tuymazy</td>\n",
       "      <td>Android</td>\n",
       "    </tr>\n",
       "    <tr>\n",
       "      <th>3</th>\n",
       "      <td>16117</td>\n",
       "      <td>119775</td>\n",
       "      <td>2024-05-13 00:00:01</td>\n",
       "      <td>ads</td>\n",
       "      <td>0</td>\n",
       "      <td>1</td>\n",
       "      <td>21</td>\n",
       "      <td>Russia</td>\n",
       "      <td>Tuymazy</td>\n",
       "      <td>Android</td>\n",
       "    </tr>\n",
       "    <tr>\n",
       "      <th>4</th>\n",
       "      <td>16117</td>\n",
       "      <td>136173</td>\n",
       "      <td>2024-05-13 00:00:01</td>\n",
       "      <td>ads</td>\n",
       "      <td>0</td>\n",
       "      <td>1</td>\n",
       "      <td>21</td>\n",
       "      <td>Russia</td>\n",
       "      <td>Tuymazy</td>\n",
       "      <td>Android</td>\n",
       "    </tr>\n",
       "  </tbody>\n",
       "</table>\n",
       "</div>"
      ],
      "text/plain": [
       "   user_id  receiver_id                time source  exp_group  gender  age  \\\n",
       "0    16117        21886 2024-05-13 00:00:01    ads          0       1   21   \n",
       "1    16117        24425 2024-05-13 00:00:01    ads          0       1   21   \n",
       "2    16117       110592 2024-05-13 00:00:01    ads          0       1   21   \n",
       "3    16117       119775 2024-05-13 00:00:01    ads          0       1   21   \n",
       "4    16117       136173 2024-05-13 00:00:01    ads          0       1   21   \n",
       "\n",
       "  country     city       os  \n",
       "0  Russia  Tuymazy  Android  \n",
       "1  Russia  Tuymazy  Android  \n",
       "2  Russia  Tuymazy  Android  \n",
       "3  Russia  Tuymazy  Android  \n",
       "4  Russia  Tuymazy  Android  "
      ]
     },
     "execution_count": 5,
     "metadata": {},
     "output_type": "execute_result"
    }
   ],
   "source": [
    "message_actions  = '''\n",
    "            select *\n",
    "            from simulator_20240320.message_actions \n",
    "            limit 100\n",
    "        '''\n",
    "ph.read_clickhouse(message_actions, connection=connection).head()"
   ]
  },
  {
   "cell_type": "code",
   "execution_count": 6,
   "id": "d745d0fd-769a-4f92-a816-655c88ad5968",
   "metadata": {
    "jupyter": {
     "source_hidden": true
    },
    "tags": []
   },
   "outputs": [],
   "source": [
    "        # SQL запрос для данных из feed_actions\n",
    "feed_query = '''\n",
    "            select  toDate(time) as event_date,\n",
    "                    user_id,\n",
    "                    sum(action = 'like') as likes,\n",
    "                    sum(action = 'view') as views,\n",
    "                    max(gender) as gender,\n",
    "                    max(age) as age,\n",
    "                    max(os) as os\n",
    "            from simulator_20240320.feed_actions\n",
    "            where toDate(time)+10 = yesterday()\n",
    "            group by user_id, event_date\n",
    "        '''\n",
    "feed_data = ph.read_clickhouse(feed_query, connection=connection)"
   ]
  },
  {
   "cell_type": "code",
   "execution_count": 8,
   "id": "4ba54689-970d-40d8-adcc-7049fbddd862",
   "metadata": {
    "jupyter": {
     "source_hidden": true
    },
    "tags": []
   },
   "outputs": [],
   "source": [
    "  message_query = '''\n",
    "            select  toDate(time) as event_date,\n",
    "                    user_id,\n",
    "                    count(receiver_id) as messages_sent,\n",
    "                    countIf(user_id in  (select receiver_id from simulator_20240320.message_actions\n",
    "                    where toDate(time)+10 = yesterday())\n",
    "                    ) as messages_received,\n",
    "                    count(distinct receiver_id) as users_sent,\n",
    "                    countIf(user_id in  (select distinct receiver_id from simulator_20240320.message_actions\n",
    "                    where toDate(time)+10 = yesterday())\n",
    "                    ) as users_received,\n",
    "                    max(gender) as gender,\n",
    "                    max(age) as age,\n",
    "                    max(os) as os\n",
    "            from simulator_20240320.message_actions\n",
    "            where toDate(time)+10 = yesterday() \n",
    "            group by user_id, event_date\n",
    "        '''"
   ]
  },
  {
   "cell_type": "code",
   "execution_count": 9,
   "id": "365048d7-d151-4e75-8226-6c0604a60f40",
   "metadata": {
    "jupyter": {
     "source_hidden": true
    },
    "tags": []
   },
   "outputs": [],
   "source": [
    "message_data = ph.read_clickhouse(message_query, connection=connection)"
   ]
  },
  {
   "cell_type": "code",
   "execution_count": 10,
   "id": "6819c24e-9e1c-4c30-9f20-4e9a3ae448c9",
   "metadata": {
    "jupyter": {
     "source_hidden": true
    },
    "tags": []
   },
   "outputs": [],
   "source": [
    "combined_data = feed_data.merge(message_data, on=['event_date', 'user_id', 'gender', 'age', 'os'], how='outer')"
   ]
  },
  {
   "cell_type": "code",
   "execution_count": 11,
   "id": "19a8d1b2-a2d8-4ef4-97ed-d0f1791605c9",
   "metadata": {
    "jupyter": {
     "source_hidden": true
    },
    "tags": []
   },
   "outputs": [],
   "source": [
    " gender_stats = combined_data.groupby(['event_date', 'gender'])\\\n",
    "            .agg(views=('views', 'sum'),\n",
    "                 likes=('likes', 'sum'),\n",
    "                 messages_received=('messages_received', 'sum'),\n",
    "                 messages_sent=('messages_sent', 'sum'),\n",
    "                 users_received=('users_received', 'sum'),\n",
    "                 users_sent=('users_sent', 'sum')\n",
    "                )\\\n",
    "            .reset_index()\\\n",
    "            .rename(columns={'gender': 'dimension_value'})\n",
    "       "
   ]
  },
  {
   "cell_type": "code",
   "execution_count": 12,
   "id": "c4226b3a-92b4-42a4-8794-8623e6293b6e",
   "metadata": {
    "jupyter": {
     "source_hidden": true
    },
    "tags": []
   },
   "outputs": [],
   "source": [
    "gender_stats.dimension_value = gender_stats.dimension_value.astype(str)\n",
    "gender_stats.insert(loc=1, column='dimension', value='gender')      "
   ]
  },
  {
   "cell_type": "markdown",
   "id": "d4626470-cf72-4388-b903-4fdb21c1182e",
   "metadata": {},
   "source": [
    "### Итоговый вывод пайплайна - таблица со срезами по данным"
   ]
  },
  {
   "cell_type": "code",
   "execution_count": 13,
   "id": "ba2df90c-2644-44aa-b146-decdde411208",
   "metadata": {
    "jupyter": {
     "source_hidden": true
    },
    "tags": []
   },
   "outputs": [
    {
     "data": {
      "text/html": [
       "<div>\n",
       "<style scoped>\n",
       "    .dataframe tbody tr th:only-of-type {\n",
       "        vertical-align: middle;\n",
       "    }\n",
       "\n",
       "    .dataframe tbody tr th {\n",
       "        vertical-align: top;\n",
       "    }\n",
       "\n",
       "    .dataframe thead th {\n",
       "        text-align: right;\n",
       "    }\n",
       "</style>\n",
       "<table border=\"1\" class=\"dataframe\">\n",
       "  <thead>\n",
       "    <tr style=\"text-align: right;\">\n",
       "      <th></th>\n",
       "      <th>event_date</th>\n",
       "      <th>dimension</th>\n",
       "      <th>dimension_value</th>\n",
       "      <th>views</th>\n",
       "      <th>likes</th>\n",
       "      <th>messages_received</th>\n",
       "      <th>messages_sent</th>\n",
       "      <th>users_received</th>\n",
       "      <th>users_sent</th>\n",
       "    </tr>\n",
       "  </thead>\n",
       "  <tbody>\n",
       "    <tr>\n",
       "      <th>0</th>\n",
       "      <td>2024-06-29</td>\n",
       "      <td>gender</td>\n",
       "      <td>0</td>\n",
       "      <td>294545.0</td>\n",
       "      <td>59022.0</td>\n",
       "      <td>3726.0</td>\n",
       "      <td>5627.0</td>\n",
       "      <td>3726.0</td>\n",
       "      <td>4479.0</td>\n",
       "    </tr>\n",
       "    <tr>\n",
       "      <th>1</th>\n",
       "      <td>2024-06-29</td>\n",
       "      <td>gender</td>\n",
       "      <td>1</td>\n",
       "      <td>356064.0</td>\n",
       "      <td>71506.0</td>\n",
       "      <td>4562.0</td>\n",
       "      <td>7273.0</td>\n",
       "      <td>4562.0</td>\n",
       "      <td>5714.0</td>\n",
       "    </tr>\n",
       "  </tbody>\n",
       "</table>\n",
       "</div>"
      ],
      "text/plain": [
       "  event_date dimension dimension_value     views    likes  messages_received  \\\n",
       "0 2024-06-29    gender               0  294545.0  59022.0             3726.0   \n",
       "1 2024-06-29    gender               1  356064.0  71506.0             4562.0   \n",
       "\n",
       "   messages_sent  users_received  users_sent  \n",
       "0         5627.0          3726.0      4479.0  \n",
       "1         7273.0          4562.0      5714.0  "
      ]
     },
     "execution_count": 13,
     "metadata": {},
     "output_type": "execute_result"
    }
   ],
   "source": [
    "gender_stats"
   ]
  },
  {
   "cell_type": "code",
   "execution_count": null,
   "id": "b05835d4-e86a-4552-8322-7df7dc701899",
   "metadata": {},
   "outputs": [],
   "source": []
  },
  {
   "cell_type": "code",
   "execution_count": null,
   "id": "638dbddf-20be-45e7-915b-2597fe63a917",
   "metadata": {
    "tags": []
   },
   "outputs": [],
   "source": []
  },
  {
   "cell_type": "code",
   "execution_count": null,
   "id": "599c9aa3-0a0a-459f-a3d6-011f118e84fe",
   "metadata": {},
   "outputs": [],
   "source": []
  }
 ],
 "metadata": {
  "kernelspec": {
   "display_name": "Python 3 (ipykernel)",
   "language": "python",
   "name": "python3"
  },
  "language_info": {
   "codemirror_mode": {
    "name": "ipython",
    "version": 3
   },
   "file_extension": ".py",
   "mimetype": "text/x-python",
   "name": "python",
   "nbconvert_exporter": "python",
   "pygments_lexer": "ipython3",
   "version": "3.8.10"
  }
 },
 "nbformat": 4,
 "nbformat_minor": 5
}
