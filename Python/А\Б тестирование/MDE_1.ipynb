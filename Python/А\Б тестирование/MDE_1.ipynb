{
 "cells": [
  {
   "cell_type": "markdown",
   "id": "e16928b9-905a-484c-b0dc-9728981a672a",
   "metadata": {
    "jupyter": {
     "outputs_hidden": true
    },
    "tags": []
   },
   "source": [
    "### Вводные\n",
    "Заказчик в лице ML-отдела планирует выкатывать новый алгоритм, рекомендующий нашим пользователям интересные посты. После обсуждений того, как он это делает, вы пришли к следующему пониманию:\n",
    "\n",
    "* Алгоритм добавляет пользователям 1-2 просмотра\n",
    "* Вероятность того, что он сработает, составляет 90%\n",
    "* Если у пользователя меньше 50 просмотров, то алгоритм не сработает\n",
    "* На эксперимент выделена 1 неделя\n",
    "\n",
    "Предпологая, что увеличение числа просмотров приведёт и к увеличению лайков на пользователя, возможно ли обнаружить различия в среднем количестве лайков на пользователя? "
   ]
  },
  {
   "cell_type": "markdown",
   "id": "d7b38a54-2ed9-449e-a455-253c51b9563e",
   "metadata": {},
   "source": [
    "### Ход действий\n",
    "* Распределения, из которых мы будем симулировать просмотры и пользовательские CTR, мы построим на основе периода 2024-02-23 - 2024-02-29 (в этот период проводился АА-тест). \n",
    "* На эксперимент нам выделили неделю. Предоположим, за эту неделю в сервис зайдёт столько же пользователей, сколько зашло в указанный период. \n",
    "* Разбивка пользователей будет проводиться на две группы в соотношении 50/50.\n",
    "* Эффект алгоритма на просмотры сымитируем.\n",
    "* Лайки мы буду сравнивать t-тестом с поправкой Уэлча на неравные дисперсии (equal_var=False). Уровень значимости задам 0.05."
   ]
  },
  {
   "cell_type": "code",
   "execution_count": 26,
   "id": "21cf7b29-4b64-4dcf-a821-b4ed910bcbd4",
   "metadata": {},
   "outputs": [],
   "source": [
    "# Подключаю нужные пакеты\n",
    "import configparser\n",
    "\n",
    "import pandahouse\n",
    "import pandas as pd\n",
    "from tqdm import tqdm\n",
    "import seaborn as sns\n",
    "import numpy as np\n",
    "from scipy.stats import ttest_ind\n",
    "\n",
    "#Генератор псевдослучайных чисел. Использую Numpy, т.к. он генерирует быстрее чем Scipy\n",
    "rng = np.random.default_rng()"
   ]
  },
  {
   "cell_type": "code",
   "execution_count": 15,
   "id": "41d25e09-c33e-4dd3-9d9d-9df2adcdf9e4",
   "metadata": {},
   "outputs": [
    {
     "data": {
      "text/plain": [
       "['config.ini']"
      ]
     },
     "execution_count": 15,
     "metadata": {},
     "output_type": "execute_result"
    }
   ],
   "source": [
    "config = configparser.ConfigParser()\n",
    "config.read('config.ini')"
   ]
  },
  {
   "cell_type": "code",
   "execution_count": 16,
   "id": "393ee67a-2f67-445d-ae99-b83d827d5885",
   "metadata": {},
   "outputs": [],
   "source": [
    "# Подсоединяемся к нужной базе данных.\n",
    "# Логины, пароли и прочее в отдельном файле\n",
    "connection = {\n",
    "    'host': config.get('clickhouse_connection', 'host'),\n",
    "    'user': config.get('clickhouse_connection', 'user'),\n",
    "    'password': config.get('clickhouse_connection', 'password'),\n",
    "    'database': config.get('clickhouse_connection', 'database')\n",
    "}"
   ]
  },
  {
   "cell_type": "markdown",
   "id": "526b535f-6762-496e-a2ad-3f39a494a93d",
   "metadata": {},
   "source": [
    "Посмотрю данные по просмотрам и CTR за период АА-теста и подготовлю их нужным образом."
   ]
  },
  {
   "cell_type": "code",
   "execution_count": 17,
   "id": "a2fc3663-beca-401e-a30d-31927e663520",
   "metadata": {},
   "outputs": [
    {
     "data": {
      "text/html": [
       "<div>\n",
       "<style scoped>\n",
       "    .dataframe tbody tr th:only-of-type {\n",
       "        vertical-align: middle;\n",
       "    }\n",
       "\n",
       "    .dataframe tbody tr th {\n",
       "        vertical-align: top;\n",
       "    }\n",
       "\n",
       "    .dataframe thead th {\n",
       "        text-align: right;\n",
       "    }\n",
       "</style>\n",
       "<table border=\"1\" class=\"dataframe\">\n",
       "  <thead>\n",
       "    <tr style=\"text-align: right;\">\n",
       "      <th></th>\n",
       "      <th>views</th>\n",
       "      <th>users</th>\n",
       "      <th>p</th>\n",
       "    </tr>\n",
       "  </thead>\n",
       "  <tbody>\n",
       "    <tr>\n",
       "      <th>0</th>\n",
       "      <td>1</td>\n",
       "      <td>4</td>\n",
       "      <td>0.000095</td>\n",
       "    </tr>\n",
       "    <tr>\n",
       "      <th>1</th>\n",
       "      <td>2</td>\n",
       "      <td>1</td>\n",
       "      <td>0.000024</td>\n",
       "    </tr>\n",
       "    <tr>\n",
       "      <th>2</th>\n",
       "      <td>3</td>\n",
       "      <td>4</td>\n",
       "      <td>0.000095</td>\n",
       "    </tr>\n",
       "    <tr>\n",
       "      <th>3</th>\n",
       "      <td>4</td>\n",
       "      <td>5</td>\n",
       "      <td>0.000119</td>\n",
       "    </tr>\n",
       "    <tr>\n",
       "      <th>4</th>\n",
       "      <td>5</td>\n",
       "      <td>18</td>\n",
       "      <td>0.000429</td>\n",
       "    </tr>\n",
       "  </tbody>\n",
       "</table>\n",
       "</div>"
      ],
      "text/plain": [
       "   views  users         p\n",
       "0      1      4  0.000095\n",
       "1      2      1  0.000024\n",
       "2      3      4  0.000095\n",
       "3      4      5  0.000119\n",
       "4      5     18  0.000429"
      ]
     },
     "execution_count": 17,
     "metadata": {},
     "output_type": "execute_result"
    }
   ],
   "source": [
    "#эмпирическое распределение просмотров\n",
    "\n",
    "q = \"\"\"\n",
    "select views, count() as users\n",
    "from (select  \n",
    "    user_id,\n",
    "    sum(action = 'view') as views\n",
    "from simulator_20240320.feed_actions\n",
    "where toDate(time) between '2024-02-23' and '2024-02-29'\n",
    "group by user_id\n",
    ")\n",
    "group by views\n",
    "order by views\n",
    "\"\"\"\n",
    "\n",
    "\n",
    "views_distribution = pandahouse.read_clickhouse(q, connection=connection)\n",
    "views_distribution['p'] = views_distribution['users']/views_distribution.users.sum()\n",
    "views_distribution.head()"
   ]
  },
  {
   "cell_type": "code",
   "execution_count": 18,
   "id": "1633b89c-c019-4f99-b05d-179edff38866",
   "metadata": {},
   "outputs": [
    {
     "data": {
      "text/html": [
       "<div>\n",
       "<style scoped>\n",
       "    .dataframe tbody tr th:only-of-type {\n",
       "        vertical-align: middle;\n",
       "    }\n",
       "\n",
       "    .dataframe tbody tr th {\n",
       "        vertical-align: top;\n",
       "    }\n",
       "\n",
       "    .dataframe thead th {\n",
       "        text-align: right;\n",
       "    }\n",
       "</style>\n",
       "<table border=\"1\" class=\"dataframe\">\n",
       "  <thead>\n",
       "    <tr style=\"text-align: right;\">\n",
       "      <th></th>\n",
       "      <th>ctr</th>\n",
       "      <th>users</th>\n",
       "      <th>p</th>\n",
       "    </tr>\n",
       "  </thead>\n",
       "  <tbody>\n",
       "    <tr>\n",
       "      <th>0</th>\n",
       "      <td>0.00</td>\n",
       "      <td>1443</td>\n",
       "      <td>0.016952</td>\n",
       "    </tr>\n",
       "    <tr>\n",
       "      <th>1</th>\n",
       "      <td>0.65</td>\n",
       "      <td>4</td>\n",
       "      <td>0.000047</td>\n",
       "    </tr>\n",
       "    <tr>\n",
       "      <th>2</th>\n",
       "      <td>0.71</td>\n",
       "      <td>5</td>\n",
       "      <td>0.000059</td>\n",
       "    </tr>\n",
       "    <tr>\n",
       "      <th>3</th>\n",
       "      <td>0.49</td>\n",
       "      <td>4</td>\n",
       "      <td>0.000047</td>\n",
       "    </tr>\n",
       "    <tr>\n",
       "      <th>4</th>\n",
       "      <td>0.54</td>\n",
       "      <td>72</td>\n",
       "      <td>0.000846</td>\n",
       "    </tr>\n",
       "  </tbody>\n",
       "</table>\n",
       "</div>"
      ],
      "text/plain": [
       "    ctr  users         p\n",
       "0  0.00   1443  0.016952\n",
       "1  0.65      4  0.000047\n",
       "2  0.71      5  0.000059\n",
       "3  0.49      4  0.000047\n",
       "4  0.54     72  0.000846"
      ]
     },
     "execution_count": 18,
     "metadata": {},
     "output_type": "execute_result"
    }
   ],
   "source": [
    "#CTR (оставлю группировку по дате для большего разнообразия в CTR)\n",
    "q = \"\"\"\n",
    "select \n",
    "   floor(ctr, 2) as ctr, count() as users\n",
    "from (select toDate(time) as dt, \n",
    "    user_id,\n",
    "    sum(action = 'like')/sum(action = 'view') as ctr\n",
    "from simulator_20240320.feed_actions\n",
    "where dt between '2024-02-23' and '2024-02-29'\n",
    "group by dt, user_id\n",
    ")\n",
    "group by ctr\n",
    "\"\"\"\n",
    "\n",
    "#эмпирическое распределение\n",
    "ctr_distribution = pandahouse.read_clickhouse(q, connection=connection)\n",
    "ctr_distribution['p'] = ctr_distribution['users']/ctr_distribution.users.sum()\n",
    "ctr_distribution.head()"
   ]
  },
  {
   "cell_type": "markdown",
   "id": "d7a19cd8-c2d9-4a60-8035-c2bdd536641b",
   "metadata": {},
   "source": [
    "##### Количество пользователей в период АА-теста"
   ]
  },
  {
   "cell_type": "code",
   "execution_count": 19,
   "id": "6f1cb03c-2068-4bf8-b822-0836763e85d9",
   "metadata": {},
   "outputs": [
    {
     "data": {
      "text/html": [
       "<div>\n",
       "<style scoped>\n",
       "    .dataframe tbody tr th:only-of-type {\n",
       "        vertical-align: middle;\n",
       "    }\n",
       "\n",
       "    .dataframe tbody tr th {\n",
       "        vertical-align: top;\n",
       "    }\n",
       "\n",
       "    .dataframe thead th {\n",
       "        text-align: right;\n",
       "    }\n",
       "</style>\n",
       "<table border=\"1\" class=\"dataframe\">\n",
       "  <thead>\n",
       "    <tr style=\"text-align: right;\">\n",
       "      <th></th>\n",
       "      <th>uniqExact(user_id)</th>\n",
       "    </tr>\n",
       "  </thead>\n",
       "  <tbody>\n",
       "    <tr>\n",
       "      <th>0</th>\n",
       "      <td>41997</td>\n",
       "    </tr>\n",
       "  </tbody>\n",
       "</table>\n",
       "</div>"
      ],
      "text/plain": [
       "   uniqExact(user_id)\n",
       "0               41997"
      ]
     },
     "execution_count": 19,
     "metadata": {},
     "output_type": "execute_result"
    }
   ],
   "source": [
    "#сколько пользователей было в АА-тесте\n",
    "q = \"\"\"\n",
    "select uniqExact(user_id)\n",
    "from simulator_20240320.feed_actions\n",
    "where toDate(time) between '2024-02-23' and '2024-02-29'\n",
    "\n",
    "\"\"\"\n",
    "\n",
    "pandahouse.read_clickhouse(q, connection=connection)"
   ]
  },
  {
   "cell_type": "markdown",
   "id": "8b0cf5a1-4cea-445a-a485-eeb613d34579",
   "metadata": {},
   "source": [
    "Посмотрю, сколько отойдет каждой группе. Уже сразу видно, что это будет дробное число - округлю. "
   ]
  },
  {
   "cell_type": "code",
   "execution_count": 6,
   "id": "05aa80f9-d473-4c4c-a803-d399a227b94d",
   "metadata": {},
   "outputs": [
    {
     "data": {
      "text/plain": [
       "20998.0"
      ]
     },
     "execution_count": 6,
     "metadata": {},
     "output_type": "execute_result"
    }
   ],
   "source": [
    "#сколько попадёт в одну группу при равной разбивке\n",
    "np.floor(41997 / 2)"
   ]
  },
  {
   "cell_type": "markdown",
   "id": "706a88e6-3706-428f-be5f-64455023ed2c",
   "metadata": {},
   "source": [
    "#### Генерация данных на основе реальных\n",
    "Посмотрю на распределения, которые генерирую на основе реальных данных. \n",
    "\n",
    "<b>Просмотры</b>. Видна явная асимметрия, можно заметить небольшую двухгорбость."
   ]
  },
  {
   "cell_type": "code",
   "execution_count": 7,
   "id": "28ea91ec-2d4c-4624-a07b-0d11e2e1b651",
   "metadata": {},
   "outputs": [
    {
     "data": {
      "text/plain": [
       "<Axes: ylabel='Count'>"
      ]
     },
     "execution_count": 7,
     "metadata": {},
     "output_type": "execute_result"
    },
    {
     "data": {
      "image/png": "[encoded data removed]",
      "text/plain": [
       "<Figure size 432x288 with 1 Axes>"
      ]
     },
     "metadata": {
      "needs_background": "light"
     },
     "output_type": "display_data"
    }
   ],
   "source": [
    "sim_views = rng.choice(a=views_distribution.views, size=20998, replace=True, p=views_distribution.p)\n",
    "sns.histplot(sim_views)"
   ]
  },
  {
   "cell_type": "markdown",
   "id": "7bad19df-9e05-4f3f-a8b6-ad0286f4d70a",
   "metadata": {},
   "source": [
    "CTR выглядят разреженными, чего стоило ожидать - ведь округлили непрерывную величину и сэмплировали эти округлённые значения, а любые промежуточные значения генерироваться не будут. \n",
    "\n",
    "Этот подход грубоват но для текущих целей подойдёт такое приближение."
   ]
  },
  {
   "cell_type": "code",
   "execution_count": 20,
   "id": "b489e5a6-3ce6-41e5-922e-8b104c464af3",
   "metadata": {},
   "outputs": [
    {
     "data": {
      "text/plain": [
       "<Axes: ylabel='Count'>"
      ]
     },
     "execution_count": 20,
     "metadata": {},
     "output_type": "execute_result"
    },
    {
     "data": {
      "image/png": "[encoded data removed]",
      "text/plain": [
       "<Figure size 432x288 with 1 Axes>"
      ]
     },
     "metadata": {
      "needs_background": "light"
     },
     "output_type": "display_data"
    }
   ],
   "source": [
    "sim_ctrs = rng.choice(a=ctr_distribution.ctr, size=20998, replace=True, p=ctr_distribution.p)\n",
    "sns.histplot(sim_ctrs)"
   ]
  },
  {
   "cell_type": "markdown",
   "id": "7e1c0eba-eab3-4d8d-bc5c-312410cea1c3",
   "metadata": {},
   "source": [
    " <b>Лайки/клики</b>. В целом распределение похоже на распределение просмотров, но выглядит ещё более асимметричным."
   ]
  },
  {
   "cell_type": "code",
   "execution_count": 9,
   "id": "dfe0cacc-9908-4502-b7c6-673936612513",
   "metadata": {},
   "outputs": [
    {
     "data": {
      "text/plain": [
       "<Axes: ylabel='Count'>"
      ]
     },
     "execution_count": 9,
     "metadata": {},
     "output_type": "execute_result"
    },
    {
     "data": {
      "image/png": "[encoded data removed]",
      "text/plain": [
       "<Figure size 432x288 with 1 Axes>"
      ]
     },
     "metadata": {
      "needs_background": "light"
     },
     "output_type": "display_data"
    }
   ],
   "source": [
    "sim_clicks = rng.binomial(n=sim_views.astype(\"int64\"), p=sim_ctrs)\n",
    "sns.histplot(sim_clicks)"
   ]
  },
  {
   "cell_type": "markdown",
   "id": "8e25dca5-3706-464e-a4a0-d85099d09bf7",
   "metadata": {},
   "source": [
    "Прежде чем я начну симулировать АБ-тестирование и считать мощности, неплохо будет сделать искусственный АА-тест и убедиться что доля ложноположительных результатов (False Positive Rate, FPR) примерно равно значению альфа (0.05)."
   ]
  },
  {
   "cell_type": "code",
   "execution_count": 10,
   "id": "6f9fe15b-409d-4ee4-94a9-3796982e960e",
   "metadata": {},
   "outputs": [],
   "source": [
    "#функция для расчёта FPR\n",
    "\n",
    "def fpr_calc(sample_size, views_df, ctr_df, nsim=1000):\n",
    "    \"\"\"\n",
    "    Считает FPR для t-теста при заданных параметрах распределения\n",
    "    :param sample_size: размер выборок\n",
    "    :param views_df: датафрейм со значениями просмотров и их вероятностями\n",
    "    :param ctr_df: датафрейм со значениями прользовательских CTR и их вероятностями\n",
    "    :param nsim: количество симуляций (по умолчанию 1000)\n",
    "    :return: значение мощности от 0 до 1\n",
    "    \"\"\"\n",
    "\n",
    "    pvalues = [] #список, куда мы будем складывать p-value\n",
    "    rng = np.random.default_rng() #генератор случайных чисел\n",
    "\n",
    "    #симуляция и сравнение выборки nsim раз:\n",
    "\n",
    "    for _ in tqdm(range(nsim)):\n",
    "\n",
    "        #симулирую просмотры\n",
    "        group_A_views = rng.choice(a=views_df.views, size=sample_size, replace=True, p=views_df.p).astype(\"int64\")\n",
    "        group_B_views = rng.choice(a=views_df.views, size=sample_size, replace=True, p=views_df.p).astype(\"int64\")\n",
    "\n",
    "        #симулирую CTR\n",
    "        group_A_ctr = rng.choice(a=ctr_df.ctr, size=sample_size, replace=True, p=ctr_df.p)\n",
    "        group_B_ctr = rng.choice(a=ctr_df.ctr, size=sample_size, replace=True, p=ctr_df.p)\n",
    "\n",
    "        #симулирую лайки\n",
    "        clicks_A = rng.binomial(n=group_A_views, p=group_A_ctr)\n",
    "        clicks_B = rng.binomial(n=group_B_views, p=group_B_ctr)\n",
    "\n",
    "        #сравниваю t-тестом и сохраняем p-value\n",
    "        pvalues.append(ttest_ind(clicks_A, clicks_B, equal_var=False).pvalue)\n",
    "\n",
    "    #возвращаю FPR\n",
    "    return np.mean(np.array(pvalues) < 0.05)"
   ]
  },
  {
   "cell_type": "markdown",
   "id": "dc6376cf-8007-4a24-af3f-629f38e27867",
   "metadata": {},
   "source": [
    "Результат довольно близок к ожидаемому: повторная симуляция будет давать другие значения, но \"вращаться\" они будут около 0.05.<br>\n",
    "P.S. Если хочется еще точнее приблизиться, можно увеличить количество симуляций nsim."
   ]
  },
  {
   "cell_type": "code",
   "execution_count": 11,
   "id": "969beee7-d7b6-414e-b7bf-ff997ee8da4e",
   "metadata": {},
   "outputs": [
    {
     "name": "stderr",
     "output_type": "stream",
     "text": [
      "100%|██████████| 20000/20000 [04:36<00:00, 72.27it/s]\n"
     ]
    },
    {
     "data": {
      "text/plain": [
       "0.04775"
      ]
     },
     "execution_count": 11,
     "metadata": {},
     "output_type": "execute_result"
    }
   ],
   "source": [
    "fpr_calc(sample_size=20998, views_df=views_distribution, ctr_df=ctr_distribution, nsim=20000)"
   ]
  },
  {
   "cell_type": "markdown",
   "id": "e93f3412-a4e9-42f4-a183-7c4d4962aed1",
   "metadata": {},
   "source": [
    "#### Расчет\n",
    "##### Увеличение числа просмотров на 1-2 с 90%-ой вероятностью для пользователей с числом просмотров более 50\n",
    "\n",
    "Реализовывать эффект буду созданием последовательности из 1 и 2, в соотношении примерно 50/50, фактически генерируя 0 и 1 с вероятностью в 50%, а потом добавляя к ним всем 1."
   ]
  },
  {
   "cell_type": "code",
   "execution_count": 21,
   "id": "9277db2f-819b-492c-bd95-a97456c5e78f",
   "metadata": {},
   "outputs": [
    {
     "data": {
      "text/plain": [
       "array([2, 2, 1, ..., 2, 1, 1])"
      ]
     },
     "execution_count": 21,
     "metadata": {},
     "output_type": "execute_result"
    }
   ],
   "source": [
    "1 + rng.binomial(n=1, p=0.5, size=20998)"
   ]
  },
  {
   "cell_type": "markdown",
   "id": "8fa05237-1c00-45e0-b4b6-4371d2faf3e1",
   "metadata": {},
   "source": [
    "Таким способом я создаю \"маску\" из 0 и 1 - то, есть для тех на ком алгоритм сработал или нет. Так как вероятность 90%, большая часть значений будет \"1\"."
   ]
  },
  {
   "cell_type": "code",
   "execution_count": 13,
   "id": "7deac916-0f13-40a7-bb4f-19ed12ef17c3",
   "metadata": {},
   "outputs": [
    {
     "data": {
      "text/plain": [
       "array([1, 1, 1, ..., 1, 1, 1], dtype=int64)"
      ]
     },
     "execution_count": 13,
     "metadata": {},
     "output_type": "execute_result"
    }
   ],
   "source": [
    "rng.binomial(n=1, p=0.9, size=20998)"
   ]
  },
  {
   "cell_type": "markdown",
   "id": "62632c45-fec4-47a4-92ac-2030332d79e8",
   "metadata": {},
   "source": [
    "Последняя \"маска\" - пользователи с числом просмотров большим либо равным 50. "
   ]
  },
  {
   "cell_type": "code",
   "execution_count": 22,
   "id": "d3d27b00-e28e-4479-8fe3-931feef6bdf0",
   "metadata": {},
   "outputs": [
    {
     "data": {
      "text/plain": [
       "array([ True, False, False, ...,  True, False, False])"
      ]
     },
     "execution_count": 22,
     "metadata": {},
     "output_type": "execute_result"
    }
   ],
   "source": [
    "sim_views >= 50"
   ]
  },
  {
   "cell_type": "markdown",
   "id": "9724923d-d3a3-42b4-b0eb-e2eebe24eac6",
   "metadata": {},
   "source": [
    "Когда мы всё это перемножу, получу массив из 0, 1, 2, где:\n",
    "\n",
    "* 0 - это пользователи, для которых алгоритм не сработал по одной из двух причин. Либо у него просмтров мало, либо ему просто не повезло и он попал в 10%, либо все сразу.\n",
    "* 1 - один просмотр\n",
    "* 2 - два просмотра"
   ]
  },
  {
   "cell_type": "code",
   "execution_count": 23,
   "id": "165548be-9b8e-42b0-98da-0eaa878d70da",
   "metadata": {},
   "outputs": [
    {
     "data": {
      "text/plain": [
       "array([1, 0, 0, ..., 2, 0, 0])"
      ]
     },
     "execution_count": 23,
     "metadata": {},
     "output_type": "execute_result"
    }
   ],
   "source": [
    "rng.binomial(n=1, p=0.9, size=20998) * (1 + rng.binomial(n=1, p=0.5, size=20998)) * (sim_views >= 50)"
   ]
  },
  {
   "cell_type": "markdown",
   "id": "1a8de834-b8e6-4683-ac36-7202c2521454",
   "metadata": {},
   "source": [
    "Складываю результат сложения массивов к просмотрам и получаю искомый <b>эффект</b>. На основе этого буду генерировать лайки, которые меня и интересуют."
   ]
  },
  {
   "cell_type": "code",
   "execution_count": 24,
   "id": "b405d9ac-0105-48bf-9c02-dd7d38093309",
   "metadata": {},
   "outputs": [
    {
     "data": {
      "text/plain": [
       "array([65., 34., 34., ..., 89., 33., 23.])"
      ]
     },
     "execution_count": 24,
     "metadata": {},
     "output_type": "execute_result"
    }
   ],
   "source": [
    "sim_views + (rng.binomial(n=1, p=0.9, size=20998) * (1 + rng.binomial(n=1, p=0.5, size=20998)) * (sim_views >= 50))"
   ]
  },
  {
   "cell_type": "markdown",
   "id": "854c1d3e-a957-4dfe-aec9-0d6053e0e2d5",
   "metadata": {},
   "source": [
    "#### Считаю мощность"
   ]
  },
  {
   "cell_type": "code",
   "execution_count": 25,
   "id": "2189f486-d4af-4bcc-a7b1-951473534a49",
   "metadata": {},
   "outputs": [],
   "source": [
    "def power_calc(sample_size, views_df, ctr_df, threshold, nsim=1000):\n",
    "    \"\"\"\n",
    "    Считает мощность для t-теста при заданных параметрах распределения и эффекта\n",
    "    :param sample_size: размер выборок\n",
    "    :param views_df: датафрейм со значениями просмотров и их вероятностями\n",
    "    :param ctr_df: датафрейм со значениями прользовательских CTR и их вероятностями\n",
    "    :param threshold: порог просмотров, после которого начинает действовать алгоритм\n",
    "    :param nsim: количество симуляций (по умолчанию 1000)\n",
    "    :return: значение мощности от 0 до 1\n",
    "    \"\"\"\n",
    "\n",
    "    pvalues = [] #список, куда складываются p-value\n",
    "    rng = np.random.default_rng() #генератор случайных чисел\n",
    "\n",
    "    #симуляция и сравнение выборки nsim раз:\n",
    "\n",
    "    for _ in tqdm(range(nsim)):\n",
    "\n",
    "        #симулирую просмотры\n",
    "        group_A_views = rng.choice(a=views_df.views, size=sample_size, replace=True, p=views_df.p).astype(\"int64\")\n",
    "        group_B_views = rng.choice(a=views_df.views, size=sample_size, replace=True, p=views_df.p).astype(\"int64\")\n",
    "\n",
    "        #симулирую эффект в тестовой группе\n",
    "        group_B_views = group_B_views + (rng.binomial(n=1, p=0.9, size=sample_size) * (1 + rng.binomial(n=1, p=0.5, size=sample_size)) * (group_B_views >= threshold))\n",
    "        group_B_views = group_B_views.astype(\"int64\")\n",
    "\n",
    "        #симулирую CTR\n",
    "        group_A_ctr = rng.choice(a=ctr_df.ctr, size=sample_size, replace=True, p=ctr_df.p)\n",
    "        group_B_ctr = rng.choice(a=ctr_df.ctr, size=sample_size, replace=True, p=ctr_df.p)\n",
    "\n",
    "        #симулирую лайки\n",
    "        clicks_A = rng.binomial(n=group_A_views, p=group_A_ctr)\n",
    "        clicks_B = rng.binomial(n=group_B_views, p=group_B_ctr)\n",
    "\n",
    "        #сравниваю t-тестом и сохраняю p-value\n",
    "        pvalues.append(ttest_ind(clicks_A, clicks_B, equal_var=False).pvalue)\n",
    "\n",
    "    #возвращаю искомую мощность\n",
    "    return np.mean(np.array(pvalues) < 0.05)"
   ]
  },
  {
   "cell_type": "code",
   "execution_count": 19,
   "id": "6d3f331e-6847-4b69-af47-57900674c894",
   "metadata": {},
   "outputs": [
    {
     "name": "stderr",
     "output_type": "stream",
     "text": [
      "100%|████████████████████████████████████████████████████████████████████████████| 20000/20000 [03:21<00:00, 99.09it/s]\n"
     ]
    },
    {
     "data": {
      "text/plain": [
       "0.25395"
      ]
     },
     "execution_count": 19,
     "metadata": {},
     "output_type": "execute_result"
    }
   ],
   "source": [
    "power_calc(sample_size=20998, views_df=views_distribution, ctr_df=ctr_distribution, threshold=50, nsim=20000)"
   ]
  },
  {
   "cell_type": "markdown",
   "id": "f4bf9457-dd75-4a89-b695-300c0b8373ae",
   "metadata": {},
   "source": [
    "### Выводы\n",
    "Искомая мощность составила 25.3 % - Это очень мало. В текущей конфигурации требуемой мощности в 80% не добиться."
   ]
  },
  {
   "cell_type": "markdown",
   "id": "b03e621f-b251-40ed-8677-ca487e923f75",
   "metadata": {},
   "source": [
    "Можно попробовать поиграться с гипотетическими начальными данными, например:\n",
    "* Алгоритм не сработает, если у пользователя меньше 30 просмотров (было 50)\n",
    "* Увеличить длительность эксперимента на 2 недели\n",
    "* Учитывать пользователей только с не менее 30 просмотрами"
   ]
  },
  {
   "cell_type": "markdown",
   "id": "8da9bdf0-cbe7-43c0-862b-729b71d0599b",
   "metadata": {},
   "source": [
    "#### Расчет\n",
    "##### Увеличение числа просмотров на 1-2 с 90%-ой вероятностью для пользователей с числом просмотров более 30"
   ]
  },
  {
   "cell_type": "code",
   "execution_count": 27,
   "id": "7fc23679-7ae9-47f7-964f-1fb036ac48ee",
   "metadata": {},
   "outputs": [
    {
     "name": "stderr",
     "output_type": "stream",
     "text": [
      "100%|██████████| 20000/20000 [04:51<00:00, 68.70it/s]\n"
     ]
    },
    {
     "data": {
      "text/plain": [
       "0.41475"
      ]
     },
     "execution_count": 27,
     "metadata": {},
     "output_type": "execute_result"
    }
   ],
   "source": [
    "power_calc(sample_size=20998, views_df=views_distribution, ctr_df=ctr_distribution, threshold=30, nsim=20000)"
   ]
  },
  {
   "cell_type": "markdown",
   "id": "225fc7fb-e441-4805-98b6-61f18032a1c6",
   "metadata": {},
   "source": [
    "#### Промежуточные выводы\n",
    "Теперь мощность около 41% - то есть дополнительно получили 16% мощности. Это всё ещё очень мало."
   ]
  },
  {
   "cell_type": "markdown",
   "id": "e4baaf7c-b330-4a33-ba11-1e8ceedde7f2",
   "metadata": {},
   "source": [
    "#### Расчет\n",
    "##### Увеличение продолжительности эксперимента до 2-х недель"
   ]
  },
  {
   "cell_type": "code",
   "execution_count": 28,
   "id": "503cc958-3fce-4fbd-afd0-d74d69bba18c",
   "metadata": {},
   "outputs": [
    {
     "data": {
      "text/html": [
       "<div>\n",
       "<style scoped>\n",
       "    .dataframe tbody tr th:only-of-type {\n",
       "        vertical-align: middle;\n",
       "    }\n",
       "\n",
       "    .dataframe tbody tr th {\n",
       "        vertical-align: top;\n",
       "    }\n",
       "\n",
       "    .dataframe thead th {\n",
       "        text-align: right;\n",
       "    }\n",
       "</style>\n",
       "<table border=\"1\" class=\"dataframe\">\n",
       "  <thead>\n",
       "    <tr style=\"text-align: right;\">\n",
       "      <th></th>\n",
       "      <th>uniqExact(user_id)</th>\n",
       "    </tr>\n",
       "  </thead>\n",
       "  <tbody>\n",
       "    <tr>\n",
       "      <th>0</th>\n",
       "      <td>61182</td>\n",
       "    </tr>\n",
       "  </tbody>\n",
       "</table>\n",
       "</div>"
      ],
      "text/plain": [
       "   uniqExact(user_id)\n",
       "0               61182"
      ]
     },
     "execution_count": 28,
     "metadata": {},
     "output_type": "execute_result"
    }
   ],
   "source": [
    "q = \"\"\"\n",
    "select uniqExact(user_id)\n",
    "from simulator_20240320.feed_actions\n",
    "where toDate(time) between '2024-02-23' and '2024-03-07'\n",
    "\n",
    "\"\"\"\n",
    "\n",
    "pandahouse.read_clickhouse(q, connection=connection)"
   ]
  },
  {
   "cell_type": "code",
   "execution_count": 30,
   "id": "c869b37b-d3e6-4cfd-a316-8708b62c8319",
   "metadata": {},
   "outputs": [
    {
     "data": {
      "text/plain": [
       "30591.0"
      ]
     },
     "execution_count": 30,
     "metadata": {},
     "output_type": "execute_result"
    }
   ],
   "source": [
    "np.floor(61182 / 2)"
   ]
  },
  {
   "cell_type": "code",
   "execution_count": 31,
   "id": "7671d9bc-c840-4056-9548-44680ba797ba",
   "metadata": {},
   "outputs": [
    {
     "name": "stderr",
     "output_type": "stream",
     "text": [
      "100%|██████████| 20000/20000 [06:52<00:00, 48.49it/s]\n"
     ]
    },
    {
     "data": {
      "text/plain": [
       "0.55585"
      ]
     },
     "execution_count": 31,
     "metadata": {},
     "output_type": "execute_result"
    }
   ],
   "source": [
    "power_calc(sample_size=30591, views_df=views_distribution, ctr_df=ctr_distribution, threshold=30, nsim=20000)"
   ]
  },
  {
   "cell_type": "markdown",
   "id": "c1459842-8919-4aad-adf5-28d38b73618e",
   "metadata": {},
   "source": [
    "#### Промежуточные выводы\n",
    "Мощность где-то около 55.5%. Лучше, но до порога в 80% ещё 24%."
   ]
  },
  {
   "cell_type": "markdown",
   "id": "274815aa-2b94-4ebe-9727-27e6c14bc6dc",
   "metadata": {},
   "source": [
    "#### Расчет\n",
    "##### Учет только пользователей с числом просмотров  не менее 30"
   ]
  },
  {
   "cell_type": "code",
   "execution_count": 32,
   "id": "854b7d6d-06a8-4cc2-be89-f10e7c4fe8bd",
   "metadata": {},
   "outputs": [],
   "source": [
    "def power_calc_masked(sample_size, views_df, ctr_df, threshold, nsim=1000):\n",
    "    \"\"\"\n",
    "    Считает мощность для t-теста при заданных параметрах распределения и эффекта + отсекает пользователей ниже нужного порога\n",
    "    :param sample_size: размер выборок\n",
    "    :param views_df: датафрейм со значениями просмотров и их вероятностями\n",
    "    :param ctr_df: датафрейм со значениями прользовательских CTR и их вероятностями\n",
    "    :param threshold: порог просмотров, после которого начинает действовать алгоритм\n",
    "    :param nsim: количество симуляций (по умолчанию 1000)\n",
    "    :return: значение мощности от 0 до 1\n",
    "    \"\"\"\n",
    "\n",
    "    pvalues = [] #список, куда складывать p-value\n",
    "    rng = np.random.default_rng() #генератор случайных чисел\n",
    "\n",
    "    #симуляция и сравнение выборки nsim раз:\n",
    "\n",
    "    for _ in tqdm(range(nsim)):\n",
    "\n",
    "        #симулиру/ просмотры\n",
    "        group_A_views = rng.choice(a=views_df.views, size=sample_size, replace=True, p=views_df.p).astype(\"int64\")\n",
    "        group_B_views = rng.choice(a=views_df.views, size=sample_size, replace=True, p=views_df.p).astype(\"int64\")\n",
    "\n",
    "        #симулирую эффект в тестовой группе\n",
    "        group_B_views = group_B_views + (rng.binomial(n=1, p=0.9, size=sample_size) * (1 + rng.binomial(n=1, p=0.5, size=sample_size)) * (group_B_views >= threshold))\n",
    "        group_B_views = group_B_views.astype(\"int64\")\n",
    "\n",
    "        #маска для отсеивания лишних пользователей\n",
    "        mask_A = group_A_views>=threshold\n",
    "        mask_B = group_B_views>=threshold\n",
    "\n",
    "        #симулирую CTR\n",
    "        group_A_ctr = rng.choice(a=ctr_df.ctr, size=sample_size, replace=True, p=ctr_df.p)\n",
    "        group_B_ctr = rng.choice(a=ctr_df.ctr, size=sample_size, replace=True, p=ctr_df.p)\n",
    "\n",
    "        #симулирую лайки\n",
    "        clicks_A = rng.binomial(n=group_A_views, p=group_A_ctr)\n",
    "        clicks_B = rng.binomial(n=group_B_views, p=group_B_ctr)\n",
    "\n",
    "        #сравниваю t-тестом и сохраняю p-value\n",
    "        pvalues.append(ttest_ind(clicks_A[mask_A], clicks_B[mask_B], equal_var=False).pvalue)\n",
    "\n",
    "    #возвращаю мощность\n",
    "    return np.mean(np.array(pvalues) < 0.05)"
   ]
  },
  {
   "cell_type": "code",
   "execution_count": 33,
   "id": "252bc7e3-0397-4b35-b011-d52ab9e1c31c",
   "metadata": {},
   "outputs": [
    {
     "name": "stderr",
     "output_type": "stream",
     "text": [
      "100%|██████████| 20000/20000 [07:03<00:00, 47.18it/s]\n"
     ]
    },
    {
     "data": {
      "text/plain": [
       "0.6451"
      ]
     },
     "execution_count": 33,
     "metadata": {},
     "output_type": "execute_result"
    }
   ],
   "source": [
    "power_calc_masked(sample_size=30591, views_df=views_distribution, ctr_df=ctr_distribution, threshold=30, nsim=20000)"
   ]
  },
  {
   "cell_type": "markdown",
   "id": "cf3c1908-74ca-45b8-84f1-7ee5a58a81c1",
   "metadata": {},
   "source": [
    "#### Промежуточные выводы\n",
    "Получаю где-то 64.5% -  все еще недостаточно..."
   ]
  },
  {
   "cell_type": "markdown",
   "id": "879b8c5b-296d-484a-8e75-f55f6dae0850",
   "metadata": {},
   "source": [
    "### Общие выводы и рекомендации\n",
    "\n",
    "Несмотря на все усилия, добраться до уровня мощности в 80% так и не получилось. Что в таком случае можно предпринять?\n",
    "\n",
    "* Отказаться от идеи эксперимента вообще. Раз не хватает ресурсов для детекции такого изменения, то и смысла особо действовать нет.\n",
    "* Всё равно запустить эксперимент и надеяться на лучшее. Платой за это решение будет меньшая уверенность в полученных результатах.\n",
    "* Дорабатывать алгоритм, чтобы его эффект либо распространялся на большее число пользователей, либо чтобы он был больше.\n",
    "* Понижать дисперсию метрики методами стратификации либо CUPED.\n",
    "* Посмотреть на актуальное количество уникальных пользователей в сервисе. Если был положительный тренд - возможно, на текущий момент можно позволить себе гораздо больше пользователей.\n",
    "* Поменять уровень значимости на более высокий. Платой за это будет большая вероятность ложноположительного результата.\n",
    "* Поменять статистический тест на другой; может, t-тест просто имеет тут недостаточно мощности. Возможно, также поможет линеаризация или какой-нибудь вариант бакетизации."
   ]
  },
  {
   "cell_type": "code",
   "execution_count": null,
   "id": "c0dd2faa-17cf-400a-ba42-ef6c26ebdf8f",
   "metadata": {},
   "outputs": [],
   "source": []
  }
 ],
 "metadata": {
  "kernelspec": {
   "display_name": "Python 3 (ipykernel)",
   "language": "python",
   "name": "python3"
  },
  "language_info": {
   "codemirror_mode": {
    "name": "ipython",
    "version": 3
   },
   "file_extension": ".py",
   "mimetype": "text/x-python",
   "name": "python",
   "nbconvert_exporter": "python",
   "pygments_lexer": "ipython3",
   "version": "3.8.10"
  }
 },
 "nbformat": 4,
 "nbformat_minor": 5
}
